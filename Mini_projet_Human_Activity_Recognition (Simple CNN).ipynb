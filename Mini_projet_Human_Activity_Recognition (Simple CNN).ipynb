version https://git-lfs.github.com/spec/v1
oid sha256:9dbedec8798d33d786713bbc0f0dc85768d1a6770b16778b1bb469a80a61da6b
size 219338807
