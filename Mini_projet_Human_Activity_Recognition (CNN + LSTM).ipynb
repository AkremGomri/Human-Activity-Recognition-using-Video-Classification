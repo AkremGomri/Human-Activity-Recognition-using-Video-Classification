version https://git-lfs.github.com/spec/v1
oid sha256:3db1dbdadc1698d1c864b4476bbc79d4801afd9e26f2d196f32655253a1f13be
size 69523672
